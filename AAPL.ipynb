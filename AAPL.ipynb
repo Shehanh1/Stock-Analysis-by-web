{
 "cells": [
  {
   "cell_type": "code",
   "execution_count": 2,
   "id": "f34e5b5e-9407-4e4a-9b22-f243b9753db7",
   "metadata": {},
   "outputs": [],
   "source": [
    "import pandas as pd\n",
    "import numpy as np\n",
    "from matplotlib import pyplot as plt\n",
    "from sklearn import linear_model"
   ]
  },
  {
   "cell_type": "code",
   "execution_count": 3,
   "id": "ba9dcf04-5b5c-4ef4-95bb-69f5840118a6",
   "metadata": {},
   "outputs": [],
   "source": [
    "df1 = pd.read_csv('AAPL.csv',parse_dates=True)\n",
    "df2 = pd.read_csv('Book1.csv',parse_dates=True, sep = \",\")\n",
    "df3 = pd.merge(df1, df2, how='inner', left_on = 'Date' , right_on = 'date')"
   ]
  },
  {
   "cell_type": "code",
   "execution_count": 4,
   "id": "c072965f-346a-4197-88fa-6fd254e0588b",
   "metadata": {},
   "outputs": [
    {
     "name": "stdout",
     "output_type": "stream",
     "text": [
      "           Date        Open        High         Low       Close   Adj Close  \\\n",
      "0    2020-10-26  114.010002  116.550003  112.879997  115.050003  114.314751   \n",
      "1    2020-10-27  115.489998  117.279999  114.540001  116.599998  115.854843   \n",
      "2    2020-10-28  115.050003  115.430000  111.099998  111.199997  110.489349   \n",
      "3    2020-10-29  112.370003  116.930000  112.199997  115.320000  114.583023   \n",
      "4    2020-10-30  111.059998  111.989998  107.720001  108.860001  108.164307   \n",
      "..          ...         ...         ...         ...         ...         ...   \n",
      "247  2021-10-19  147.009995  149.169998  146.550003  148.759995  148.759995   \n",
      "248  2021-10-20  148.699997  149.750000  148.119995  149.259995  149.259995   \n",
      "249  2021-10-21  148.809998  149.639999  147.869995  149.479996  149.479996   \n",
      "250  2021-10-22  149.690002  150.179993  148.639999  148.690002  148.690002   \n",
      "251  2021-10-25  148.679993  149.369995  147.619995  148.639999  148.639999   \n",
      "\n",
      "        Volume        date     cases  deaths  \n",
      "0    111850700  2020-10-26   8777994  225701  \n",
      "1     92276800  2020-10-27   8852381  226684  \n",
      "2    143937800  2020-10-28   8934263  227702  \n",
      "3    146129200  2020-10-29   9024932  228706  \n",
      "4    190272600  2020-10-30   9124800  229674  \n",
      "..         ...         ...       ...     ...  \n",
      "247   76378900  2021-10-19  45120516  728400  \n",
      "248   58418800  2021-10-20  45207108  731512  \n",
      "249   61421000  2021-10-21  45289095  733385  \n",
      "250   58839600  2021-10-22  45376439  735515  \n",
      "251   50652900  2021-10-25  45528926  737526  \n",
      "\n",
      "[252 rows x 10 columns]\n"
     ]
    }
   ],
   "source": [
    "#print(df1)\n",
    "#print(df2)\n",
    "print(df3)"
   ]
  },
  {
   "cell_type": "code",
   "execution_count": 5,
   "id": "270600fe-d5d9-44f3-b19c-59fac0062a2b",
   "metadata": {},
   "outputs": [
    {
     "name": "stdout",
     "output_type": "stream",
     "text": [
      "29831991.468253966\n",
      "133.23488075000006\n"
     ]
    }
   ],
   "source": [
    "x = np.mean(df3['cases'])\n",
    "y = np.mean(df3['Close'])\n",
    "print(x)\n",
    "print(y)"
   ]
  },
  {
   "cell_type": "code",
   "execution_count": null,
   "id": "419bf6e2-0d95-4521-a6da-7700b8cfb6eb",
   "metadata": {},
   "outputs": [],
   "source": [
    "df3['x_var'] = (df3['cases'] - x)**2"
   ]
  },
  {
   "cell_type": "code",
   "execution_count": null,
   "id": "689fd4e9-c1e0-4c73-b6b9-c1418a23b5e6",
   "metadata": {},
   "outputs": [],
   "source": [
    "df3['xy_cov'] = (df3['cases'] - x) * (df3['Close'] -  y)"
   ]
  },
  {
   "cell_type": "code",
   "execution_count": null,
   "id": "d09c8c1e-e6c0-461a-a23d-eafe01423456",
   "metadata": {},
   "outputs": [],
   "source": [
    "beta = df3['xy_cov'].sum() / df3['x_var'].sum()\n",
    "alpha = y - beta * x\n",
    "print(alpha)\n",
    "print(beta)"
   ]
  },
  {
   "cell_type": "code",
   "execution_count": null,
   "id": "4038a44e-d8f5-4074-9d73-69c38df437c3",
   "metadata": {},
   "outputs": [],
   "source": [
    "y_pred = alpha +beta * df3['cases']"
   ]
  },
  {
   "cell_type": "code",
   "execution_count": null,
   "id": "67d77c95-74fd-474b-a702-009b626fef40",
   "metadata": {},
   "outputs": [],
   "source": [
    "plt.plot(df3['cases'], y_pred)\n",
    "plt.scatter(df3['cases'],df3['Close'] , color='r')\n",
    "plt.show()"
   ]
  },
  {
   "cell_type": "code",
   "execution_count": null,
   "id": "099c49c1-3950-4ff9-bf96-4954fa8d52ae",
   "metadata": {},
   "outputs": [],
   "source": [
    "regression = linear_model.LinearRegression()\n",
    "regression.fit(x,y)\n",
    "print(regression.coef_)"
   ]
  }
 ],
 "metadata": {
  "kernelspec": {
   "display_name": "Python 3",
   "language": "python",
   "name": "python3"
  },
  "language_info": {
   "codemirror_mode": {
    "name": "ipython",
    "version": 3
   },
   "file_extension": ".py",
   "mimetype": "text/x-python",
   "name": "python",
   "nbconvert_exporter": "python",
   "pygments_lexer": "ipython3",
   "version": "3.8.8"
  }
 },
 "nbformat": 4,
 "nbformat_minor": 5
}
